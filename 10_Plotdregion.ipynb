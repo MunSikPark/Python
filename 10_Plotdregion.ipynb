{
 "cells": [
  {
   "cell_type": "markdown",
   "metadata": {},
   "source": [
    "# 10. Plotdregion"
   ]
  },
  {
   "cell_type": "code",
   "execution_count": 1,
   "metadata": {},
   "outputs": [],
   "source": [
    "import numpy as np\n",
    "import matplotlib.pyplot as plt\n",
    "import matplotlib\n",
    "from matplotlib.colors import ListedColormap\n",
    "\n",
    "def plot_decision_region(X,y, classifier, test_idx=None, resolution=0.02, title=''):\n",
    "    \n",
    "    # 색 설정에 관한 부분\n",
    "    markers = ('s','x','o','^','v')\n",
    "    colors = ('r','b','lightgreen','gray','cyan')\n",
    "    cmap = ListedColormap(colors[:len(np.unique(y))])\n",
    "    \n",
    "    # decision surface 그리기\n",
    "    # x1_min, x1_max는 트레이닝 데이터 x의 첫 번재값인 꽃잎길이의 최소값 -1, 최대값 +1 이다. \n",
    "    x1_min, x1_max = X[:,0].min()-1, X[:,0].max()+1\n",
    "    x2_min, x2_max = X[:,1].min()-1, X[:,1].max()+1\n",
    "    \n",
    "    # numpy.meshgrid()는 격자의 교차점 좌표를 편리하게 다룰 수 있도록 값을 리턴하는 함수이다.\n",
    "    # 아래 예를 보면 이해가 더 쉽다.\n",
    "    # 즉 xx와 yy는 아이리스 트레이닝 데이터의 꽃잎길이, 꽃잎너비가 분포하는 좌표 격자 교차점을\n",
    "    # resolution 간격으로 편리하게 만들어 줄 수 있는 값을 가지고 있다.\n",
    "    xx, yy = np.meshgrid(np.arange(x1_min, x1_max, resolution),np.arange(x2_min, x2_max, resolution))\n",
    "    \n",
    "    # xx,yy를 ravel()을 이용해서 1차원 배열 즉 한줄로 만든 후 전치행렬로 변환하여 퍼셉트론 분류기의\n",
    "    # predict()의 인자로 입력하여 계산된 예측 값을 Z로 둔다. 그리고 reshape를 하여 원래 배열로 복원한다.\n",
    "    Z = classifier.predict(np.array([xx.ravel(), yy.ravel()]).T)\n",
    "    Z = Z.reshape(xx.shape)\n",
    "    \n",
    "    # Z를 xx, yy가 축인 그래프상에 cmap을 이용해 등고선을 그린다.\n",
    "    plt.contourf(xx, yy, Z, alpha=0.5, cmap=cmap)\n",
    "    plt.xlim(xx.min(),xx.max())\n",
    "    plt.ylim(yy.min(), yy.max())\n",
    "    \n",
    "    X_test, y_test = X[test_idx,:], y[test_idx]\n",
    "    for idx, cl in enumerate(np.unique(y)):\n",
    "        plt.scatter(x=X[y==cl, 0], y=X[y==cl, 1], c=cmap(idx), marker=markers[idx],label=cl)\n",
    "        \n",
    "    if test_idx:\n",
    "        X_test, y_test = X[test_idx, :], y[test_idx]\n",
    "        plt.scatter(X_test[:,0],X_test[:,1],c=['red','blue','lightgreen','gray','cyan'][idx],linewidth=1, marker='o',s=80, label='Test set')\n",
    "        \n",
    "    plt.xlabel('std_length_flower')\n",
    "    plt.ylabel('std_cup_flower')\n",
    "    plt.legend(loc=2)\n",
    "    plt.title(title)\n",
    "    plt.show()"
   ]
  },
  {
   "cell_type": "code",
   "execution_count": 2,
   "metadata": {},
   "outputs": [
    {
     "data": {
      "text/plain": [
       "[<matplotlib.lines.Line2D at 0x18b35c68dc8>,\n",
       " <matplotlib.lines.Line2D at 0x18b36b52e48>,\n",
       " <matplotlib.lines.Line2D at 0x18b36b52888>,\n",
       " <matplotlib.lines.Line2D at 0x18b36b52fc8>,\n",
       " <matplotlib.lines.Line2D at 0x18b36b53208>,\n",
       " <matplotlib.lines.Line2D at 0x18b36b53788>]"
      ]
     },
     "execution_count": 2,
     "metadata": {},
     "output_type": "execute_result"
    },
    {
     "data": {
      "image/png": "[encoded data removed]",
      "text/plain": [
       "<Figure size 432x288 with 1 Axes>"
      ]
     },
     "metadata": {
      "needs_background": "light"
     },
     "output_type": "display_data"
    }
   ],
   "source": [
    "x = [0,1,2,3,4,5]\n",
    "y = [0,1,2,3,4,5]\n",
    "xx, yy = np.meshgrid(x,y)\n",
    "plt.plot(xx,yy, marker='.', color='k', linestyle='none')"
   ]
  },
  {
   "cell_type": "code",
   "execution_count": 3,
   "metadata": {},
   "outputs": [
    {
     "data": {
      "text/plain": [
       "array([[0, 1, 2, 3, 4, 5],\n",
       "       [0, 1, 2, 3, 4, 5],\n",
       "       [0, 1, 2, 3, 4, 5],\n",
       "       [0, 1, 2, 3, 4, 5],\n",
       "       [0, 1, 2, 3, 4, 5],\n",
       "       [0, 1, 2, 3, 4, 5]])"
      ]
     },
     "execution_count": 3,
     "metadata": {},
     "output_type": "execute_result"
    }
   ],
   "source": [
    "xx"
   ]
  },
  {
   "cell_type": "code",
   "execution_count": 4,
   "metadata": {},
   "outputs": [
    {
     "data": {
      "text/plain": [
       "array([0, 1, 2, 3, 4, 5, 0, 1, 2, 3, 4, 5, 0, 1, 2, 3, 4, 5, 0, 1, 2, 3,\n",
       "       4, 5, 0, 1, 2, 3, 4, 5, 0, 1, 2, 3, 4, 5])"
      ]
     },
     "execution_count": 4,
     "metadata": {},
     "output_type": "execute_result"
    }
   ],
   "source": [
    "xx.ravel()"
   ]
  }
 ],
 "metadata": {
  "kernelspec": {
   "display_name": "Python 3",
   "language": "python",
   "name": "python3"
  },
  "language_info": {
   "codemirror_mode": {
    "name": "ipython",
    "version": 3
   },
   "file_extension": ".py",
   "mimetype": "text/x-python",
   "name": "python",
   "nbconvert_exporter": "python",
   "pygments_lexer": "ipython3",
   "version": "3.7.6"
  }
 },
 "nbformat": 4,
 "nbformat_minor": 4
}
