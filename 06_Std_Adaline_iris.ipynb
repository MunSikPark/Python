{
 "cells": [
  {
   "cell_type": "markdown",
   "metadata": {},
   "source": [
    "# 06.Std_Adaline_iris"
   ]
  },
  {
   "cell_type": "markdown",
   "metadata": {},
   "source": [
    "매우 작은 값의 Learning Rate를 적용해야 비용함수가 특정값에 수렴하게 되어 머신러닝이 유효하게 되지만,\n",
    "이는 매우 많은 수의 반복 학습이 필요하게 되어 머신러닝을 수행하는데 있어 성능상의 문제가 발생 할 수 있다."
   ]
  },
  {
   "cell_type": "markdown",
   "metadata": {},
   "source": [
    "따라서 표준화 (Standardization) 을 이용해 트레이닝 데이터를 표준화된 값으로 변환하여 머신러닝을 수행하여\n",
    "비교적 큰 값의 learning rate에서도 머신러닝이 유효하게 동작 되도록 하자."
   ]
  },
  {
   "cell_type": "code",
   "execution_count": 1,
   "metadata": {},
   "outputs": [
    {
     "data": {
      "image/png": "[encoded data removed]",
      "text/plain": [
       "<Figure size 432x288 with 1 Axes>"
      ]
     },
     "metadata": {
      "needs_background": "light"
     },
     "output_type": "display_data"
    }
   ],
   "source": [
    "%matplotlib inline\n",
    "import pandas as pd\n",
    "import numpy as np\n",
    "import matplotlib\n",
    "import matplotlib.pyplot as plt\n",
    "from matplotlib import style\n",
    "from adaline import AdalineGD\n",
    "\n",
    "if __name__ == '__main__':\n",
    "    df = pd.read_csv('iris.data', header=None)\n",
    "    y = df.iloc[0:100,4].values\n",
    "    y = np.where(y=='Iris-setosa',-1,1)\n",
    "    X = df.iloc[0:100,[0,2]].values\n",
    "    \n",
    "    # X를 한번 Copy 하여 X_std 값으로 저장함\n",
    "    X_std = np.copy(X)\n",
    "    \n",
    "    # 이부분이 꽃받침 길이와 꽃잎 길이의 표준화에 대한 부분이다.\n",
    "    X_std[:,0] = (X[:,0] - X[:,0].mean()) / X[:,0].std()\n",
    "    X_std[:,1] = (X[:,1] - X[:,1].mean()) / X[:,1].std()\n",
    "                     \n",
    "    adal = AdalineGD(eta=0.01, n_iter=15).fit(X_std, y)\n",
    "    plt.plot(range(1, len(adal.cost_)+1), adal.cost_, marker='o')\n",
    "    plt.xlabel('Epochs')\n",
    "    plt.ylabel('SSE')\n",
    "    plt.title('Adaline Standardized - Learning rate 0.01')\n",
    "    plt.show()"
   ]
  },
  {
   "cell_type": "markdown",
   "metadata": {},
   "source": [
    "표준 화를 진행하면 Learning Rate를 0.01로 두어도 수렴함을 알 수 있다."
   ]
  }
 ],
 "metadata": {
  "kernelspec": {
   "display_name": "Python 3",
   "language": "python",
   "name": "python3"
  },
  "language_info": {
   "codemirror_mode": {
    "name": "ipython",
    "version": 3
   },
   "file_extension": ".py",
   "mimetype": "text/x-python",
   "name": "python",
   "nbconvert_exporter": "python",
   "pygments_lexer": "ipython3",
   "version": "3.7.6"
  }
 },
 "nbformat": 4,
 "nbformat_minor": 4
}
