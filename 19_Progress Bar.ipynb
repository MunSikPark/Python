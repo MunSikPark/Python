{
 "cells": [
  {
   "cell_type": "markdown",
   "metadata": {},
   "source": [
    "# 19.Progress Bar"
   ]
  },
  {
   "cell_type": "markdown",
   "metadata": {},
   "source": [
    "## 진행상황을 확인하기 위한 Bar다."
   ]
  },
  {
   "cell_type": "code",
   "execution_count": 2,
   "metadata": {},
   "outputs": [],
   "source": [
    "class ProgBar():\n",
    "    def __init__(self, step=100):\n",
    "        self.step = int(step/20)\n",
    "        self.count =1\n",
    "        self.progress = 0\n",
    "        \n",
    "    def update(self):\n",
    "        if self.count % self.step == 0:\n",
    "            self.progress += 1\n",
    "            print('\\r[%s%s]' %('#'*self.progress, ' '*(20-self.progress)), end='')\n",
    "        self.count +=1"
   ]
  }
 ],
 "metadata": {
  "kernelspec": {
   "display_name": "Python 3",
   "language": "python",
   "name": "python3"
  },
  "language_info": {
   "codemirror_mode": {
    "name": "ipython",
    "version": 3
   },
   "file_extension": ".py",
   "mimetype": "text/x-python",
   "name": "python",
   "nbconvert_exporter": "python",
   "pygments_lexer": "ipython3",
   "version": "3.7.6"
  }
 },
 "nbformat": 4,
 "nbformat_minor": 4
}
