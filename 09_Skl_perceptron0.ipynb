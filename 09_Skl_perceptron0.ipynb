{
 "cells": [
  {
   "cell_type": "markdown",
   "metadata": {},
   "source": [
    "# 09.Skl_perceptron0"
   ]
  },
  {
   "cell_type": "markdown",
   "metadata": {},
   "source": [
    "여기서 부터는 Scikit-learn을 활용한 실습"
   ]
  },
  {
   "cell_type": "code",
   "execution_count": 2,
   "metadata": {},
   "outputs": [
    {
     "name": "stdout",
     "output_type": "stream",
     "text": [
      "총 테스트 개수:45, 오류개수:15\n",
      "정확도: 0.67\n"
     ]
    }
   ],
   "source": [
    "# 필요한 모듈 import\n",
    "%matplotlib inline\n",
    "from sklearn import datasets\n",
    "from sklearn.model_selection import train_test_split\n",
    "from sklearn.preprocessing import StandardScaler\n",
    "from sklearn.linear_model import Perceptron\n",
    "from sklearn.metrics import accuracy_score\n",
    "import numpy as np\n",
    "\n",
    "# iris 데이터 불러오기 (내장 파일로 가지고 있다.)\n",
    "if __name__ == '__main__':\n",
    "    iris = datasets.load_iris()\n",
    "    X = iris.data[:,[2,3]]\n",
    "    y = iris.target\n",
    "    \n",
    "    X_train, X_test, y_train, y_test = train_test_split(X, y, test_size=0.3, random_state=0)\n",
    "    \n",
    "    sc = StandardScaler()\n",
    "    sc.fit(X_train) # X_train의 평균과 표준편차를 구함\n",
    "    X_train_std = sc.transform(X_train) # 트레이닝 데이터를 표준화\n",
    "    X_test_std = sc.transform(X_test) # 테스트 데이터를 표준화\n",
    "    \n",
    "    ml = Perceptron(eta0=0.01, max_iter=40, random_state=0)\n",
    "    ml.fit(X_train_std, y_train)\n",
    "    y_pred = ml.predict(X_test_std)\n",
    "    print('총 테스트 개수:%d, 오류개수:%d' %(len(y_test), (y_test != y_pred).sum()))\n",
    "    # accuracy_score() 인자에 두가지를 입력하면 y_test에 대한 y_pred를 비교하고 값이 같은 비율, 즉 정확도를 계산해준다.\n",
    "    print('정확도: %.2f' %accuracy_score(y_test, y_pred))"
   ]
  }
 ],
 "metadata": {
  "kernelspec": {
   "display_name": "Python 3",
   "language": "python",
   "name": "python3"
  },
  "language_info": {
   "codemirror_mode": {
    "name": "ipython",
    "version": 3
   },
   "file_extension": ".py",
   "mimetype": "text/x-python",
   "name": "python",
   "nbconvert_exporter": "python",
   "pygments_lexer": "ipython3",
   "version": "3.7.6"
  }
 },
 "nbformat": 4,
 "nbformat_minor": 4
}
