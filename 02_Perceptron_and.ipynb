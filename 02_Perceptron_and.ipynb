{
 "cells": [
  {
   "cell_type": "markdown",
   "metadata": {},
   "source": [
    "# Perceptron_and"
   ]
  },
  {
   "cell_type": "code",
   "execution_count": 1,
   "metadata": {},
   "outputs": [
    {
     "name": "stdout",
     "output_type": "stream",
     "text": [
      "[0.02 0.02 0.02]\n",
      "[0.   0.04 0.02]\n",
      "[-0.02  0.04  0.02]\n",
      "[-0.02  0.04  0.04]\n",
      "[-0.04  0.04  0.02]\n",
      "[-0.04  0.04  0.02]\n",
      "[-0.04  0.04  0.02]\n",
      "[-0.04  0.04  0.02]\n",
      "[-0.04  0.04  0.02]\n",
      "[-0.04  0.04  0.02]\n",
      "[1, 3, 3, 2, 1, 0, 0, 0, 0, 0]\n"
     ]
    }
   ],
   "source": [
    "import numpy as np\n",
    "from Perceptron import Perceptron\n",
    "\n",
    "if __name__ == '__main__':\n",
    "    X = np.array([[0,0],[0,1],[1,0],[1,1]])\n",
    "    y = np.array([-1,-1,-1,1])\n",
    "    \n",
    "    ppn = Perceptron(eta=0.01)\n",
    "    ppn.fit(X,y)\n",
    "    print(ppn.errors_)"
   ]
  },
  {
   "cell_type": "code",
   "execution_count": null,
   "metadata": {},
   "outputs": [],
   "source": [
    "# 5번째 이후로 가중치의 업데이트가 발생하지 않으므로 학습이 완료 되었다."
   ]
  }
 ],
 "metadata": {
  "kernelspec": {
   "display_name": "Python 3",
   "language": "python",
   "name": "python3"
  },
  "language_info": {
   "codemirror_mode": {
    "name": "ipython",
    "version": 3
   },
   "file_extension": ".py",
   "mimetype": "text/x-python",
   "name": "python",
   "nbconvert_exporter": "python",
   "pygments_lexer": "ipython3",
   "version": "3.7.6"
  }
 },
 "nbformat": 4,
 "nbformat_minor": 4
}
